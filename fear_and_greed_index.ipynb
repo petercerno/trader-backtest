{
 "cells": [
  {
   "cell_type": "markdown",
   "metadata": {},
   "source": [
    "# Crypto Fear & Greed Index\n",
    "\n",
    "Source: https://alternative.me/crypto/fear-and-greed-index/\n",
    "\n",
    "This code allows you to download the Crypto Fear & Greed Index for Bitcoin into a CSV file, which can be then used as a side input for your trading strategy."
   ]
  },
  {
   "cell_type": "code",
   "execution_count": null,
   "metadata": {},
   "outputs": [],
   "source": [
    "import numpy as np\n",
    "import pandas as pd\n",
    "import urllib.request, json\n",
    "\n",
    "\n",
    "fear_and_greed_index_data = {\n",
    "    'timestamp_sec': [],\n",
    "    'value': [],\n",
    "}\n",
    "\n",
    "with urllib.request.urlopen('https://api.alternative.me/fng/?limit=10000') as url:\n",
    "    fear_and_greed_index_json = json.loads(url.read().decode())\n",
    "    for data in fear_and_greed_index_json['data']:\n",
    "        fear_and_greed_index_data['timestamp_sec'].append(int(data['timestamp']))\n",
    "        fear_and_greed_index_data['value'].append(float(data['value']))\n",
    "\n",
    "fear_and_greed_frame = pd.DataFrame(fear_and_greed_index_data).sort_values(\n",
    "    by='timestamp_sec').reset_index(drop=True)[['timestamp_sec', 'value']]\n",
    "\n",
    "fear_and_greed_frame.to_csv(\n",
    "    'data/fear_and_greed_index.csv', index=False, header=None)\n",
    "\n",
    "fear_and_greed_frame[:5]"
   ]
  }
 ],
 "metadata": {
  "kernelspec": {
   "display_name": "Python 3",
   "language": "python",
   "name": "python3"
  },
  "language_info": {
   "codemirror_mode": {
    "name": "ipython",
    "version": 3
   },
   "file_extension": ".py",
   "mimetype": "text/x-python",
   "name": "python",
   "nbconvert_exporter": "python",
   "pygments_lexer": "ipython3",
   "version": "3.9.1"
  }
 },
 "nbformat": 4,
 "nbformat_minor": 4
}
