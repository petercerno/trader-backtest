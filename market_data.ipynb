{
 "cells": [
  {
   "attachments": {},
   "cell_type": "markdown",
   "metadata": {},
   "source": [
    "# Market Data\n",
    "\n",
    "This code allows you to download historical market data from Yahoo Finance."
   ]
  },
  {
   "cell_type": "code",
   "execution_count": null,
   "metadata": {},
   "outputs": [],
   "source": [
    "import numpy as np\n",
    "import yfinance as yf\n",
    "from datetime import datetime\n",
    "\n",
    "ticker = 'SPY'\n",
    "adjust = True\n",
    "start_date = datetime(1990, 1, 1)\n",
    "end_date = datetime(2022, 12, 31)\n",
    "price_frame = yf.download(ticker, start=start_date, end=end_date)\n",
    "\n",
    "price_frame.reset_index(inplace=True)\n",
    "price_frame['Date'] = price_frame['Date'].astype(np.int64) // 10**9\n",
    "\n",
    "ohlc_cols = ['Open', 'High', 'Low', 'Close']\n",
    "if adjust:\n",
    "    scale = price_frame['Adj Close'] / price_frame['Close']\n",
    "    for col in ohlc_cols:\n",
    "        price_frame[col] *= scale\n",
    "del price_frame['Adj Close']\n",
    "\n",
    "price_frame['High'] = price_frame[ohlc_cols].max(axis=1)\n",
    "price_frame['Low'] = price_frame[ohlc_cols].min(axis=1)\n",
    "\n",
    "price_frame.to_csv('data/%s.csv' % ticker, index=False, header=None)\n",
    "price_frame[:5]"
   ]
  }
 ],
 "metadata": {
  "kernelspec": {
   "display_name": "base",
   "language": "python",
   "name": "python3"
  },
  "language_info": {
   "codemirror_mode": {
    "name": "ipython",
    "version": 3
   },
   "file_extension": ".py",
   "mimetype": "text/x-python",
   "name": "python",
   "nbconvert_exporter": "python",
   "pygments_lexer": "ipython3",
   "version": "3.10.8"
  },
  "orig_nbformat": 4,
  "vscode": {
   "interpreter": {
    "hash": "fc9c3709868116a7f5b4f435d9339d1a041b6f95ac3b22f3d8824ddf09e4a464"
   }
  }
 },
 "nbformat": 4,
 "nbformat_minor": 2
}
